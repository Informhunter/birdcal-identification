{
 "cells": [
  {
   "cell_type": "code",
   "execution_count": 1,
   "metadata": {},
   "outputs": [],
   "source": [
    "%load_ext autoreload\n",
    "%autoreload 2"
   ]
  },
  {
   "cell_type": "code",
   "execution_count": 2,
   "metadata": {},
   "outputs": [],
   "source": [
    "from src.data.dataset import BirdTrainDataset, BirdTestDataset"
   ]
  },
  {
   "cell_type": "code",
   "execution_count": 10,
   "metadata": {},
   "outputs": [],
   "source": [
    "train_dataset = BirdTrainDataset(\n",
    "    '../data/raw/birdsong-recognition/train.csv',\n",
    "    '../data/raw/birdsong-recognition/train_audio/',\n",
    "    44100\n",
    ")"
   ]
  },
  {
   "cell_type": "code",
   "execution_count": 11,
   "metadata": {},
   "outputs": [
    {
     "data": {
      "text/plain": [
       "21375"
      ]
     },
     "execution_count": 11,
     "metadata": {},
     "output_type": "execute_result"
    }
   ],
   "source": [
    "len(train_dataset)"
   ]
  },
  {
   "cell_type": "code",
   "execution_count": 12,
   "metadata": {},
   "outputs": [],
   "source": [
    "a = train_dataset[1]"
   ]
  },
  {
   "cell_type": "code",
   "execution_count": 14,
   "metadata": {},
   "outputs": [
    {
     "data": {
      "text/plain": [
       "{'waveform': tensor([[0., 0., 0.,  ..., 0., 0., 0.],\n",
       "         [0., 0., 0.,  ..., 0., 0., 0.]]),\n",
       " 'sampling_rate': 44100,\n",
       " 'ebird_code': 'aldfly',\n",
       " 'primary_label': 'Empidonax alnorum_Alder Flycatcher',\n",
       " 'secondary_labels': [],\n",
       " 'channels': '2 (stereo)',\n",
       " 'duration': 36,\n",
       " 'filepath': '../data/raw/birdsong-recognition/train_audio/aldfly/XC135454.mp3'}"
      ]
     },
     "execution_count": 14,
     "metadata": {},
     "output_type": "execute_result"
    }
   ],
   "source": [
    "a"
   ]
  },
  {
   "cell_type": "code",
   "execution_count": 15,
   "metadata": {},
   "outputs": [
    {
     "data": {
      "text/plain": [
       "36.310204081632655"
      ]
     },
     "execution_count": 15,
     "metadata": {},
     "output_type": "execute_result"
    }
   ],
   "source": [
    "len(a['waveform'][0]) / 44100"
   ]
  },
  {
   "cell_type": "code",
   "execution_count": 16,
   "metadata": {},
   "outputs": [],
   "source": [
    "test_dataset = BirdTestDataset(\n",
    "    '../data/raw/birdsong-recognition-test-check/test.csv',\n",
    "    '../data/raw/birdsong-recognition-test-check/test_audio/',\n",
    "    44100\n",
    ")"
   ]
  },
  {
   "cell_type": "code",
   "execution_count": 17,
   "metadata": {},
   "outputs": [
    {
     "data": {
      "text/plain": [
       "{'waveform': tensor([[0., 0., 0.,  ..., 0., 0., 0.]]),\n",
       " 'sampling_rate': 48000,\n",
       " 'site': 'site_1',\n",
       " 'audio_id': '41e6fe6504a34bf6846938ba78d13df1',\n",
       " 'row_ids': ['site_1_41e6fe6504a34bf6846938ba78d13df1_5',\n",
       "  'site_1_41e6fe6504a34bf6846938ba78d13df1_10',\n",
       "  'site_1_41e6fe6504a34bf6846938ba78d13df1_15',\n",
       "  'site_1_41e6fe6504a34bf6846938ba78d13df1_20',\n",
       "  'site_1_41e6fe6504a34bf6846938ba78d13df1_25'],\n",
       " 'start_seconds': [0, 5.0, 10.0, 15.0, 20.0],\n",
       " 'end_seconds': [5.0, 10.0, 15.0, 20.0, 25.0],\n",
       " 'durations': [5.0, 5.0, 5.0, 5.0, 5.0],\n",
       " 'filepath': '../data/raw/birdsong-recognition-test-check/test_audio/41e6fe6504a34bf6846938ba78d13df1.mp3'}"
      ]
     },
     "execution_count": 17,
     "metadata": {},
     "output_type": "execute_result"
    }
   ],
   "source": [
    "test_dataset[0]"
   ]
  },
  {
   "cell_type": "code",
   "execution_count": null,
   "metadata": {},
   "outputs": [],
   "source": []
  }
 ],
 "metadata": {
  "kernelspec": {
   "display_name": "Python 3",
   "language": "python",
   "name": "python3"
  },
  "language_info": {
   "codemirror_mode": {
    "name": "ipython",
    "version": 3
   },
   "file_extension": ".py",
   "mimetype": "text/x-python",
   "name": "python",
   "nbconvert_exporter": "python",
   "pygments_lexer": "ipython3",
   "version": "3.8.2"
  }
 },
 "nbformat": 4,
 "nbformat_minor": 4
}
